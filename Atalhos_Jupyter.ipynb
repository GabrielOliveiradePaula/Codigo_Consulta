{
 "cells": [
  {
   "cell_type": "markdown",
   "id": "9e5e80e2",
   "metadata": {},
   "source": [
    "# Atalhos do Jupyter\n",
    "\n",
    "### 2 modos:\n",
    "\n",
    "1. Edit Mode: Enter\n",
    "2. Command Mode: Esc\n",
    "\n",
    "Obs: Material Útil para Markdown: https://github.com/adam-p/markdown-here/wiki/Markdown-Cheatsheet\n"
   ]
  },
  {
   "cell_type": "markdown",
   "id": "1154ceb7",
   "metadata": {},
   "source": [
    "- Inserir Célula (Command Mode)\n",
    "    - A:Insere Acima\n",
    "    - B: Insere Abaixo"
   ]
  },
  {
   "cell_type": "markdown",
   "id": "4d404846",
   "metadata": {},
   "source": [
    "- Mudar o modo da Célula (Command Mode)\n",
    "    - M: Markdown (Texto)\n",
    "    - Y: Código"
   ]
  },
  {
   "cell_type": "markdown",
   "id": "4afaeb3b",
   "metadata": {},
   "source": [
    "- Executar Códigos (Edit Mod/Command Mode)\n",
    "    - Ctrl + Enter: Executa a célula de Código\n",
    "    - Alt + Enter: Executa a célula de Código e Adiciona uma nova célula abaixo\n",
    "    - Shift + Enter (Run): Executa a célula de Código e Seleciona a célula abaixo. Caso não tenha uma célula, cria uma nova\n",
    "    - Ctrl + Shift + Enter: Executa todas linhas de códigos\n",
    "    - Ctlr + Shift + C: Limpa todas linhas de código\n",
    "   "
   ]
  },
  {
   "cell_type": "markdown",
   "id": "48f0fa16",
   "metadata": {},
   "source": [
    "- Deletar Célula (Command Mode)\n",
    "    - D + D: Deleta a célula"
   ]
  },
  {
   "cell_type": "markdown",
   "id": "e4e080ab",
   "metadata": {},
   "source": [
    "- Dicas e Ajudas de Código (Edit Mode)\n",
    "    - Tab\n",
    "        * Reconhece Variáveis já criadas \n",
    "        * Dá informações de funções (Shift + Tab)\n",
    "        * Lista os Métodos"
   ]
  },
  {
   "cell_type": "code",
   "execution_count": 13,
   "id": "6785cbdd",
   "metadata": {},
   "outputs": [
    {
     "name": "stdout",
     "output_type": "stream",
     "text": [
      "22.2\n",
      "22.2\n",
      "Gabriel\n"
     ]
    }
   ],
   "source": [
    "gabriel  = 22.2000\n",
    "print(gabriel)\n",
    "\n",
    "print(round(gabriel,4))\n",
    "\n",
    "texto = 'gabriel'\n",
    "print(texto.capitalize())"
   ]
  },
  {
   "cell_type": "markdown",
   "id": "95891d48",
   "metadata": {},
   "source": [
    "- Outros Atalhos Úteis para os Códigos\n",
    "    - Ctrl + /: Comenta a linha\n",
    "    - Ctrl + S: Salva\n",
    "    - Ctrl + D: Deleta a linha"
   ]
  },
  {
   "cell_type": "markdown",
   "id": "5020f963",
   "metadata": {},
   "source": [
    "## Saber todos os Atalhos \n",
    "    - Help > Keyboard Shortcuts"
   ]
  }
 ],
 "metadata": {
  "kernelspec": {
   "display_name": "Python 3 (ipykernel)",
   "language": "python",
   "name": "python3"
  },
  "language_info": {
   "codemirror_mode": {
    "name": "ipython",
    "version": 3
   },
   "file_extension": ".py",
   "mimetype": "text/x-python",
   "name": "python",
   "nbconvert_exporter": "python",
   "pygments_lexer": "ipython3",
   "version": "3.9.13"
  }
 },
 "nbformat": 4,
 "nbformat_minor": 5
}
