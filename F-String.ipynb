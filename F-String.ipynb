{
 "cells": [
  {
   "cell_type": "markdown",
   "id": "e3eb4e56",
   "metadata": {},
   "source": [
    "# Formatação Numérica no Python"
   ]
  },
  {
   "cell_type": "markdown",
   "id": "04287e26",
   "metadata": {},
   "source": [
    "F-String - Usa-se 'f' antes da string para formatá-la \n",
    "como número\n",
    "**OBS: deve-se seguir a ordem dos argumentos (separador de milhar antes do separador de decimal por exemplo)**"
   ]
  },
  {
   "cell_type": "markdown",
   "id": "2b983902",
   "metadata": {},
   "source": [
    "- Dois Pontos habilita a formatação numérica\n",
    "    1. Separador de Milhar: ','\n",
    "    2. Separador Decimal: '.'\n",
    "    3. Número de Casas Decimais: '2'\n",
    "    4. Dtype Float: 'f'"
   ]
  },
  {
   "cell_type": "code",
   "execution_count": 32,
   "id": "722e45f9",
   "metadata": {},
   "outputs": [
    {
     "name": "stdout",
     "output_type": "stream",
     "text": [
      "lucro foi de R$ 1,150.00, faturamento R$ 1,500.00\n"
     ]
    }
   ],
   "source": [
    "faturamento = 1500\n",
    "custo = 350\n",
    "lucro = faturamento - custo\n",
    "print(f'lucro foi de R$ {lucro:,.2f}, faturamento R$ {faturamento:,.2f}')\n"
   ]
  },
  {
   "cell_type": "markdown",
   "id": "926907df",
   "metadata": {},
   "source": [
    "- Percentual - '%' no Dtype"
   ]
  },
  {
   "cell_type": "code",
   "execution_count": 33,
   "id": "3111c07d",
   "metadata": {},
   "outputs": [
    {
     "name": "stdout",
     "output_type": "stream",
     "text": [
      "A margem foi de 76.67%\n"
     ]
    }
   ],
   "source": [
    "margem = lucro / faturamento\n",
    "print(f'A margem foi de {margem:,.2%}')"
   ]
  },
  {
   "cell_type": "markdown",
   "id": "6a672a19",
   "metadata": {},
   "source": [
    "- Para formatar no padrão Br\n",
    "    1. Substituir ',' por '_' na formatalção\n",
    "    2. Trocar '.' por ','\n",
    "    3. Trocar '_' por '.'"
   ]
  },
  {
   "cell_type": "code",
   "execution_count": 34,
   "id": "acb994df",
   "metadata": {},
   "outputs": [
    {
     "name": "stdout",
     "output_type": "stream",
     "text": [
      "O lucro foi de R$ 1_150.00\n",
      "O lucro foi de R$ 1.150,00\n"
     ]
    }
   ],
   "source": [
    "texto_lucro = f'R$ {lucro:_.2f}'\n",
    "print(f'O lucro foi de {texto_lucro}')\n",
    "\n",
    "texto_lucro = texto_lucro.replace('.',',').replace('_','.')\n",
    "print(f'O lucro foi de {texto_lucro}')"
   ]
  }
 ],
 "metadata": {
  "kernelspec": {
   "display_name": "Python 3 (ipykernel)",
   "language": "python",
   "name": "python3"
  },
  "language_info": {
   "codemirror_mode": {
    "name": "ipython",
    "version": 3
   },
   "file_extension": ".py",
   "mimetype": "text/x-python",
   "name": "python",
   "nbconvert_exporter": "python",
   "pygments_lexer": "ipython3",
   "version": "3.9.13"
  }
 },
 "nbformat": 4,
 "nbformat_minor": 5
}
