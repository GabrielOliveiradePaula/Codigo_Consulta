{
 "cells": [
  {
   "cell_type": "markdown",
   "id": "95b89f89",
   "metadata": {},
   "source": [
    "# Strings em Python"
   ]
  },
  {
   "cell_type": "raw",
   "id": "41f013e4",
   "metadata": {},
   "source": [
    "g o p g o @ g m  a i  l  .  c  o  m\n",
    "1 2 3 4 5 6 7 8 9 10 11 12 13 14 15 "
   ]
  },
  {
   "cell_type": "markdown",
   "id": "463920c9",
   "metadata": {},
   "source": [
    "### Métodos de String\n",
    "\n",
    "**+** \n",
    "  - Concatenar"
   ]
  },
  {
   "cell_type": "code",
   "execution_count": null,
   "id": "556b4de0",
   "metadata": {},
   "outputs": [],
   "source": [
    "usuario = 'gopgo8'\n",
    "servidor = 'gmail.com'\n",
    "print(usuario + '@' + servidor)"
   ]
  },
  {
   "cell_type": "markdown",
   "id": "f36454f6",
   "metadata": {},
   "source": [
    "**len()**\n",
    "  - Calcula o tamanho do texto"
   ]
  },
  {
   "cell_type": "code",
   "execution_count": 15,
   "id": "6103c759",
   "metadata": {},
   "outputs": [
    {
     "name": "stdout",
     "output_type": "stream",
     "text": [
      "11\n"
     ]
    }
   ],
   "source": [
    "cpf = '15348659732'\n",
    "print(len(cpf))"
   ]
  },
  {
   "cell_type": "markdown",
   "id": "bcfc8178",
   "metadata": {},
   "source": [
    "**capitalize()**\n",
    "- Coloca primeira letra maiúscula"
   ]
  },
  {
   "cell_type": "code",
   "execution_count": 19,
   "id": "eb4a89e7",
   "metadata": {
    "scrolled": true
   },
   "outputs": [
    {
     "name": "stdout",
     "output_type": "stream",
     "text": [
      "Gabriel\n"
     ]
    }
   ],
   "source": [
    "nome = 'gabriel'\n",
    "print(nome.capitalize())"
   ]
  },
  {
   "cell_type": "markdown",
   "id": "4faa65d2",
   "metadata": {},
   "source": [
    "**casefold()**\n",
    "  - Transforma todas letras em minúsculas"
   ]
  },
  {
   "cell_type": "code",
   "execution_count": 23,
   "id": "2f82ee95",
   "metadata": {},
   "outputs": [
    {
     "name": "stdout",
     "output_type": "stream",
     "text": [
      "gabriel\n"
     ]
    }
   ],
   "source": [
    "nome = 'GABRIel'\n",
    "print(nome.casefold())"
   ]
  },
  {
   "cell_type": "markdown",
   "id": "77bb0fba",
   "metadata": {},
   "source": [
    "**count()**\n",
    "    - Conta quantas vezes o valor da string aparece"
   ]
  },
  {
   "cell_type": "code",
   "execution_count": 24,
   "id": "b032a9a8",
   "metadata": {},
   "outputs": [
    {
     "name": "stdout",
     "output_type": "stream",
     "text": [
      "3\n"
     ]
    }
   ],
   "source": [
    "nome = 'gopgo@gmail.com'\n",
    "print(nome.count('o'))"
   ]
  },
  {
   "cell_type": "markdown",
   "id": "8ae193d6",
   "metadata": {},
   "source": [
    "**endswith()**\n",
    "  - Verifica se o texto termina com um valor específico "
   ]
  },
  {
   "cell_type": "code",
   "execution_count": 25,
   "id": "490069bf",
   "metadata": {},
   "outputs": [
    {
     "name": "stdout",
     "output_type": "stream",
     "text": [
      "True\n"
     ]
    }
   ],
   "source": [
    "nome = 'gopgo@gmail.com'\n",
    "print(nome.endswith('gmail.com'))"
   ]
  },
  {
   "cell_type": "markdown",
   "id": "17dffa37",
   "metadata": {},
   "source": [
    "**find()**\n",
    "  - Procura um texto dentro de outro, dá resposta com a posição do texto encontrado"
   ]
  },
  {
   "cell_type": "code",
   "execution_count": 32,
   "id": "962b1991",
   "metadata": {},
   "outputs": [
    {
     "name": "stdout",
     "output_type": "stream",
     "text": [
      "5\n",
      "5\n"
     ]
    }
   ],
   "source": [
    "nome = 'gopgo@gmail.com'\n",
    "print(nome.find('@gmail'))\n",
    "print(nome.find('@'))"
   ]
  },
  {
   "cell_type": "markdown",
   "id": "45056a5f",
   "metadata": {},
   "source": [
    "**format()**\n",
    "- Formata uma string de acordo com os valores que forem passados"
   ]
  },
  {
   "cell_type": "code",
   "execution_count": 34,
   "id": "3567370b",
   "metadata": {},
   "outputs": [
    {
     "name": "stdout",
     "output_type": "stream",
     "text": [
      "O faturamento foi de 10000 reais\n"
     ]
    }
   ],
   "source": [
    "faturamento = 10000\n",
    "print('O faturamento foi de {} reais'.format(faturamento))"
   ]
  },
  {
   "cell_type": "markdown",
   "id": "cf5d2790",
   "metadata": {},
   "source": [
    "**isalnum()**\n",
    "- Verifica se o texto é todo feito de letras e números ('ç' e acentos são considerados)"
   ]
  },
  {
   "cell_type": "code",
   "execution_count": 38,
   "id": "2a2fed5d",
   "metadata": {},
   "outputs": [
    {
     "name": "stdout",
     "output_type": "stream",
     "text": [
      "True\n"
     ]
    }
   ],
   "source": [
    "nome = 'Joãoonça46'\n",
    "print(nome.isalnum())"
   ]
  }
 ],
 "metadata": {
  "kernelspec": {
   "display_name": "Python 3 (ipykernel)",
   "language": "python",
   "name": "python3"
  },
  "language_info": {
   "codemirror_mode": {
    "name": "ipython",
    "version": 3
   },
   "file_extension": ".py",
   "mimetype": "text/x-python",
   "name": "python",
   "nbconvert_exporter": "python",
   "pygments_lexer": "ipython3",
   "version": "3.9.13"
  }
 },
 "nbformat": 4,
 "nbformat_minor": 5
}
