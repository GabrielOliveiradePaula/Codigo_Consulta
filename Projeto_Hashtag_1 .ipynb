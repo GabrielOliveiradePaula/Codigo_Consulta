{
 "cells": [
  {
   "cell_type": "code",
   "execution_count": 4,
   "id": "cdd7033e",
   "metadata": {},
   "outputs": [],
   "source": [
    "#Instalar e Importar as bibliotecas - Pyautogui,pyperclip, time e pandas(pd)\n",
    "\n",
    "import pyautogui\n",
    "import pyperclip\n",
    "import time\n",
    "import pandas as pd"
   ]
  },
  {
   "cell_type": "code",
   "execution_count": 2,
   "id": "9cc15d9f",
   "metadata": {},
   "outputs": [
    {
     "ename": "NameError",
     "evalue": "name 'pyautogui' is not defined",
     "output_type": "error",
     "traceback": [
      "\u001b[1;31m---------------------------------------------------------------------------\u001b[0m",
      "\u001b[1;31mNameError\u001b[0m                                 Traceback (most recent call last)",
      "\u001b[1;32m~\\AppData\\Local\\Temp\\ipykernel_8784\\1884557269.py\u001b[0m in \u001b[0;36m<module>\u001b[1;34m\u001b[0m\n\u001b[0;32m      1\u001b[0m \u001b[1;31m#Código Completo\u001b[0m\u001b[1;33m\u001b[0m\u001b[1;33m\u001b[0m\u001b[0m\n\u001b[0;32m      2\u001b[0m \u001b[1;33m\u001b[0m\u001b[0m\n\u001b[1;32m----> 3\u001b[1;33m \u001b[0mpyautogui\u001b[0m\u001b[1;33m.\u001b[0m\u001b[0mPAUSE\u001b[0m \u001b[1;33m=\u001b[0m \u001b[1;36m1\u001b[0m\u001b[1;33m\u001b[0m\u001b[1;33m\u001b[0m\u001b[0m\n\u001b[0m\u001b[0;32m      4\u001b[0m \u001b[0mpyautogui\u001b[0m\u001b[1;33m.\u001b[0m\u001b[0mpress\u001b[0m\u001b[1;33m(\u001b[0m\u001b[1;34m\"winleft\"\u001b[0m\u001b[1;33m)\u001b[0m\u001b[1;33m\u001b[0m\u001b[1;33m\u001b[0m\u001b[0m\n\u001b[0;32m      5\u001b[0m \u001b[0mpyautogui\u001b[0m\u001b[1;33m.\u001b[0m\u001b[0mwrite\u001b[0m\u001b[1;33m(\u001b[0m\u001b[1;34m\"chrome\"\u001b[0m\u001b[1;33m)\u001b[0m\u001b[1;33m\u001b[0m\u001b[1;33m\u001b[0m\u001b[0m\n",
      "\u001b[1;31mNameError\u001b[0m: name 'pyautogui' is not defined"
     ]
    }
   ],
   "source": [
    "#Código Completo\n",
    "\n",
    "pyautogui.PAUSE = 1\n",
    "pyautogui.press(\"winleft\")\n",
    "pyautogui.write(\"chrome\")\n",
    "pyautogui.press(\"enter\")\n",
    "pyautogui.alert(\"Vai começar, aperte OK e não mexa em nada\")\n",
    "pyautogui.hotkey('ctrl','t')\n",
    "link = \"https://drive.google.com/drive/folders/1mhXZ3JPAnekXP_4vX7Z_sJj35VWqayaR?usp=Sharing\"\n",
    "pyperclip.copy(link)\n",
    "pyautogui.hotkey(\"ctrl\", \"v\")\n",
    "pyautogui.press(\"enter\")\n",
    "time.sleep(5)\n",
    "pyautogui.click(x=362, y=304, clicks=2)\n",
    "time.sleep(2)\n",
    "pyautogui.click(x=1033, y=379)\n",
    "pyautogui.click(x=1073, y=185)\n",
    "pyautogui.click(x=872, y=594)\n",
    "time.sleep(5)\n",
    "df = pd.read_excel(r'C:/Users/Computador/Downloads/Vendas - Dez.xlsx')\n",
    "display(df)\n",
    "faturamento = df['Valor Final'].sum()\n",
    "qtde_produtos = df['Quantidade'].sum()\n",
    "pyautogui.hotkey('ctrl','t')\n",
    "pyautogui.write(\"mail.google.com\")\n",
    "pyautogui.press('enter')\n",
    "time.sleep(5)\n",
    "pyautogui.click(x=66, y=196)\n",
    "pyautogui.write('Alberto.barberino00@gmail.com')\n",
    "pyautogui.press('tab')\n",
    "pyautogui.press('tab')\n",
    "assunto = \"Projeto Python 1\"\n",
    "pyperclip.copy(assunto)\n",
    "pyautogui.hotkey('ctrl','v')\n",
    "pyautogui.press('tab')\n",
    "texto = f\"\"\"\n",
    "Este email foi enviado através do python, to felizão kkkkkkkk\n",
    "faturamento de ontem: R$ {faturamento:,.2f}\n",
    "quantidade de produtos de ontem: {qtde_produtos:,}\n",
    "Ignora esses valores ae, foram só para entender o pinton\n",
    "\n",
    "Abraço do Pelote\"\"\"\n",
    "\n",
    "pyperclip.copy(texto)\n",
    "pyautogui.hotkey('ctrl','v')\n",
    "pyautogui.hotkey('ctrl', 'enter')"
   ]
  },
  {
   "cell_type": "code",
   "execution_count": 6,
   "id": "045108b9",
   "metadata": {},
   "outputs": [],
   "source": [
    "#Abrir o navegador\n",
    "\n",
    "pyautogui.PAUSE = 1\n",
    "pyautogui.press(\"winleft\")\n",
    "pyautogui.write(\"chrome\")\n",
    "pyautogui.press(\"enter\")\n",
    "pyautogui.alert(\"Vai começar, aperte OK e não mexa em nada\")\n",
    "pyautogui.hotkey('ctrl','t')\n",
    "\n",
    "#Winleft é o nome da tecla do windows\n",
    "#Press: aperta uma tecla\n",
    "#Write: escreve\n",
    "#Alert: exibe alerta\n",
    "#hotkey: atalhos, comandos com mais de uma tecla\n",
    "#Ctrl + t = cria nova guia"
   ]
  },
  {
   "cell_type": "code",
   "execution_count": 14,
   "id": "2628749f",
   "metadata": {
    "scrolled": true
   },
   "outputs": [],
   "source": [
    "#Abrir o drive e colar o link do drive\n",
    "\n",
    "link = \"https://drive.google.com/drive/folders/1mhXZ3JPAnekXP_4vX7Z_sJj35VWqayaR?usp=Sharing\"\n",
    "pyperclip.copy(link)\n",
    "pyautogui.hotkey(\"ctrl\", \"v\")\n",
    "pyautogui.press(\"enter\")\n",
    "time.sleep(8)\n",
    "\n",
    "#Variável link recebe https...\n",
    "#Pyperclip para copiar o link \n",
    "#Pyautogui para colar\n",
    "#Time para esperar 15 segundos até a próxima linha de código"
   ]
  },
  {
   "cell_type": "code",
   "execution_count": null,
   "id": "bea06b07",
   "metadata": {},
   "outputs": [],
   "source": [
    "#Baixando a base de dados atualizada\n",
    "\n",
    "pyautogui.click(x=362, y=304, clicks=2)\n",
    "pyautogui.click(x=1033, y=379)\n",
    "pyautogui.click(x=1073, y=185)\n",
    "pyautogui.click(x=872, y=594)\n",
    "time.sleep(10)\n",
    "\n",
    "#Click: Clica"
   ]
  },
  {
   "cell_type": "code",
   "execution_count": 12,
   "id": "a70bfa2e",
   "metadata": {},
   "outputs": [
    {
     "name": "stdout",
     "output_type": "stream",
     "text": [
      "Point(x=872, y=594)\n"
     ]
    }
   ],
   "source": [
    "#Identificação da posição correta do mouse - Não faz parte do código\n",
    "\n",
    "time.sleep(6)\n",
    "pyautogui.position()\n",
    "print(pyautogui.position())\n",
    "\n",
    "#Position: pega posição do mouse\n",
    "#Print: Exibe os valores (do jupiter)"
   ]
  },
  {
   "cell_type": "code",
   "execution_count": null,
   "id": "38c49b2f",
   "metadata": {},
   "outputs": [],
   "source": [
    "#Importando a base de dados\n",
    "\n",
    "df = pd.read_excel(r'C:\\Users\\Computador\\Downloads\\Vendas - Dez.xlsx')\n",
    "display(df)\n",
    "#df: variável recebe C:\\... - df sigla para dataframe\n",
    "#r': indica que o texto é uma raw string. Ou seja, sem caracteres especiais\n",
    "#Alguns caracteres são usados com uma função, o r' lê sem esses comandos       \n",
    "\n",
    "faturamento = df['Valor Final'].sum()\n",
    "qtde_produtos = df['Quantidade'].sum()\n",
    "\n",
    "#faturamento: variável que recebe a soma dos valores finais\n",
    "#qtde_produtos: variável que recebe a soma das quantidades de produtos vendidos\n",
    "#Sum: soma (do jupiter)"
   ]
  },
  {
   "cell_type": "code",
   "execution_count": null,
   "id": "e9718b16",
   "metadata": {},
   "outputs": [],
   "source": [
    "#Criando um relatório via e-mail\n",
    "#Abrir o gmail numa nova guia\n",
    "\n",
    "pyautogui.hotkey('ctrl','t')\n",
    "pyautogui.write(\"mail.google.com\")\n",
    "pyautogui.press('enter')\n",
    "time.sleep(5)\n",
    "\n",
    "#Escrever e-mail\n",
    "\n",
    "pyautogui.click(x=66, y=196)\n",
    "pyautogui.write('gopgo8888@gmail.com')\n",
    "pyautogui.press('tab')\n",
    "pyautogui.press('tab')\n",
    "assunto = \"Projeto Python 1\"\n",
    "pyperclip.copy(assunto)\n",
    "pyautogui.hotkey(\"ctrl\",\"v\")\n",
    "pyautogui.press('tab')\n",
    "texto = f\"\"\"\n",
    "Gabriel você é foda, completou seu primeiro código em python\n",
    "faturamento de ontem: R$ {faturamento:,.2f}\n",
    "quantidade de produtos de ontem: {qtde_produtos:,}\n",
    "\n",
    "Abraço de mim mesmo\"\"\"\n",
    "\n",
    "pyperclip.copy(texto)\n",
    "pyautogui.hotkey(\"ctrl\",'v')\n",
    "pyautogui.hotkey('ctrl', 'enter')\n",
    "\n",
    "#f: indica que haverá um texto com variáveis inputadas a ele\n",
    "#Aspas Triplas: permite texto de mais linhas\n",
    "#{}: permite colocar uma variável dentro do texto (texto variável)\n",
    "#,.2f: formatação\n",
    "#Dois pontos: indica que haverá uma formatação\n",
    "#Vírgula: Indica que o separador de milhar será a vírgula\n",
    "#2f: indica que o separador de casa decimal "
   ]
  }
 ],
 "metadata": {
  "kernelspec": {
   "display_name": "Python 3 (ipykernel)",
   "language": "python",
   "name": "python3"
  },
  "language_info": {
   "codemirror_mode": {
    "name": "ipython",
    "version": 3
   },
   "file_extension": ".py",
   "mimetype": "text/x-python",
   "name": "python",
   "nbconvert_exporter": "python",
   "pygments_lexer": "ipython3",
   "version": "3.9.13"
  }
 },
 "nbformat": 4,
 "nbformat_minor": 5
}
