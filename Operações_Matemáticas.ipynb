{
 "cells": [
  {
   "cell_type": "markdown",
   "id": "b8b228d8",
   "metadata": {},
   "source": [
    "# *Operações Matemáticas*"
   ]
  },
  {
   "cell_type": "markdown",
   "id": "5585d409",
   "metadata": {},
   "source": [
    "- Adição\n",
    "- Subtração\n",
    "- Multiplicação\n",
    "- Divisão"
   ]
  },
  {
   "cell_type": "code",
   "execution_count": 9,
   "id": "23372fc2",
   "metadata": {},
   "outputs": [
    {
     "name": "stdout",
     "output_type": "stream",
     "text": [
      "4\n",
      "0\n",
      "4\n",
      "0.4\n"
     ]
    }
   ],
   "source": [
    "print(2 + 2)\n",
    "print(2 - 2)\n",
    "print(2 * 2)\n",
    "print(2 / 5)"
   ]
  },
  {
   "cell_type": "markdown",
   "id": "00d8dd49",
   "metadata": {},
   "source": [
    "- Potência\n",
    "- Raiz\n",
    "- Mod (\"%\" - Resto da Divisão)"
   ]
  },
  {
   "cell_type": "code",
   "execution_count": 10,
   "id": "9b3b1024",
   "metadata": {},
   "outputs": [
    {
     "name": "stdout",
     "output_type": "stream",
     "text": [
      "256\n",
      "1.4142135623730951\n",
      "4\n"
     ]
    }
   ],
   "source": [
    "print(2 ** 8)\n",
    "print(2 ** (1/2))\n",
    "print(956 % 7)"
   ]
  }
 ],
 "metadata": {
  "kernelspec": {
   "display_name": "Python 3 (ipykernel)",
   "language": "python",
   "name": "python3"
  },
  "language_info": {
   "codemirror_mode": {
    "name": "ipython",
    "version": 3
   },
   "file_extension": ".py",
   "mimetype": "text/x-python",
   "name": "python",
   "nbconvert_exporter": "python",
   "pygments_lexer": "ipython3",
   "version": "3.9.13"
  }
 },
 "nbformat": 4,
 "nbformat_minor": 5
}
